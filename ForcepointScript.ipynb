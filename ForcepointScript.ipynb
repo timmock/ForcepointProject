import pandas as pd
import glob
import os
import json
import collections
import datetime
import re

inputpath = r'E:\Forcepoint Project\input' #where the input files are 
outputpath = r'E:\Forcepoint Project\output' #where the output files will be


allfiles = glob.glob(inputpath + "/*.csv")

content = []
prefix = []
truthyrows = []

#loop through all files
for filename in allfiles:
    #print(filename)
    #get the alpha prefix of the file
    prefixName = os.path.basename(filename).split('-')[0]
    prefix.append(prefixName)
    #print(prefixName)
    #check if the alpha prefix is virusScanResults
    if prefixName == "virusScanResults":
        with open(filename) as f:
            for row in f:
                firstVal = row.split(',')[0]
                if truthy_or_falsey(firstVal):
                    #if it is, append the row for outputting
                    truthyrows.append(row) 

#filedict tells how many of each type of file there is (according to alpha refix)    
print(prefix)
print(truthyrows)


def truthy_or_falsey(value):
    print(value)
    if value:
        print(value + "true")
        return True
    else:
        print(value + "fsfs")
        return False

